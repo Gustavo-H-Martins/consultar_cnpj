{
 "cells": [
  {
   "cell_type": "code",
   "execution_count": 1,
   "metadata": {},
   "outputs": [
    {
     "name": "stdout",
     "output_type": "stream",
     "text": [
      "['00957404000178', '03389126000198', '38486817000194', '28799908000126', '17319831000123', '17444779000137', '32384286000142', '17503475000101', '40004800000103', '06151940000109', '17486275000180', '17387481000132', '99999997984356', '17498205000141', '99999999992022', '19198118000102', '16636540000104', '16866394000103', '16907746000113', '18715516000188', '33396928000196', '99999997984275', '19843929000100', '16789398000127', '65172579000115', '18715532000170', '13235618000182', '19701818000160', '20971057000145', '17255670000151', '03919139000121', '29768219000117', '99999999992103', '05585681000110', '16745465000101', '09104426000160', '12252931000166', '15438067000180', '17281106000103', '05465167000141', '21154554000113', '03133408000120', '17516113000147', '22261473000185', '17217332000125', '19296342000129', '21727508000166', '26388330000190', '21229281000129', '18715615000160', '18746164000128', '18715581000103', '32384344000138', '07256298000144', '10398157000170', '21949888000183', '33224254000142', '25455858000171', '23070071000166', '05475103000121', '65179400000151', '16695025000197', '99999999985328', '36253414000170', '05599094000180', '17309790000194', '31662649000100', '11099618000177', '17398512000150', '22675359000100', '10745790000198', '20234423000183', '21154877000107', '05461142000170', '17138140000123', '17155730000164', '08715327000151', '11206085000185', '17464652000180', '18715599000105', '13252006000106', '21390387000100', '99999999991727', '17161837000115', '19138890000120', '35682930000157', '19377514000199', '04888232000189', '19169713000101', '05487631000109', '08631821000138', '18715565000110', '18715573000167', '17322264000164', '16625196000140']\n"
     ]
    }
   ],
   "source": [
    "# libs\n",
    "import datetime\n",
    "import ctypes\n",
    "from selenium import webdriver\n",
    "from selenium.webdriver.common.by import By\n",
    "from selenium.webdriver.common.keys import Keys\n",
    "from selenium.webdriver.common.action_chains import ActionChains\n",
    "from selenium.webdriver.support.ui import WebDriverWait\n",
    "from selenium.webdriver.support import expected_conditions as EC\n",
    "from selenium.webdriver.chrome.options import Options\n",
    "from selenium.webdriver.chrome.service import Service\n",
    "from webdriver_manager.chrome import ChromeDriverManager\n",
    "import logging\n",
    "import os\n",
    "from time import sleep\n",
    "from tkinter import Tk, Label, Button\n",
    "\n",
    "current_dir = os.getcwd()\n",
    "input_csv = os.path.join(current_dir,'input.csv')\n",
    "log_file = os.path.join(current_dir, \"consulta_cnpj.log\")\n",
    "with open(input_csv) as f:\n",
    "    # Lendo todo o arquivo na variável cnpjs\n",
    "    cnpjs = f.readlines()[1:]\n",
    "    # Removendo caracteres não numéricos\n",
    "    cnpjs = [''.join(filter(str.isdigit, cnpj)) for cnpj in cnpjs]\n",
    "    # Removendo duplicados\n",
    "    cnpjs = list(set(cnpjs))\n",
    "print(cnpjs)"
   ]
  },
  {
   "cell_type": "code",
   "execution_count": 1,
   "metadata": {},
   "outputs": [],
   "source": [
    "def input_ok ():\n",
    "    # Criando a janela principal do Tkinter\n",
    "    root = Tk()\n",
    "\n",
    "    # Adicionando uma Label para exibir a mensagem ao usuário\n",
    "    label = Label(root, text=\"Resolva o captcha manualmente e clique em Continuar.\")\n",
    "    label.configure(font={'size': 20})\n",
    "    label.pack()\n",
    "\n",
    "    # Função para continuar a execução do script quando o botão for clicado\n",
    "    def on_button_click():\n",
    "        # Fechando a janela do Tkinter\n",
    "        root.destroy()\n",
    "\n",
    "    # Adicionando um botão para permitir que o usuário continue a execução do script\n",
    "    button = Button(root, text=\"Continuar\", command=on_button_click)\n",
    "    button.pack()\n",
    "\n",
    "    # Exibindo a janela do Tkinter\n",
    "    root.mainloop()"
   ]
  },
  {
   "cell_type": "code",
   "execution_count": 4,
   "metadata": {},
   "outputs": [
    {
     "data": {
      "text/plain": [
       "''"
      ]
     },
     "execution_count": 4,
     "metadata": {},
     "output_type": "execute_result"
    }
   ],
   "source": [
    "import pytesseract\n",
    "caminho = tessdata_dir_config = 'C:\\\\Program Files\\\\Tesseract-OCR\\\\tesseract.exe'\n",
    "pytesseract.pytesseract.tesseract_cmd = caminho\n",
    "tessdata_dir_config = '--tessdata-dir \"C:\\\\Program Files\\\\Tesseract-OCR\\\\tessdata\"'\n",
    "captcha_text = pytesseract.image_to_string('captcha.png')\n",
    "captcha_text"
   ]
  },
  {
   "cell_type": "code",
   "execution_count": 9,
   "metadata": {},
   "outputs": [],
   "source": [
    "\n",
    "# gerando log\n",
    "logging.basicConfig(level=logging.INFO, filename=log_file,\n",
    "                    encoding='utf-8', format=\"%(asctime)s - %(levelname)s - %(message)s\")\n",
    "\n",
    "# Pegando a resolução da tela\n",
    "\n",
    "user32 = ctypes.windll.user32\n",
    "resolucao = user32.GetSystemMetrics(0), user32.GetSystemMetrics(1)\n",
    "\n",
    "# Omitindo o navegador na execução\n",
    "chrome_options = Options()\n",
    "#chrome_options.add_argument('--headless')\n",
    "chrome_options.add_experimental_option(\"excludeSwitches\", [\"enable-automation\",\"enable-logging\"])\n",
    "chrome_options.add_argument(f'--window-size={resolucao[0]},{resolucao[1]}')\n",
    "chrome_options.add_argument(\"start-maximized\")\n",
    "chrome_options.add_argument('--enable-cookies')\n",
    "\n",
    "\n",
    "# Parâmetros do navegador\n",
    "driver = webdriver.Chrome(service=Service(ChromeDriverManager().install()), options=chrome_options)\n",
    "for cnpj in cnpjs:\n",
    "    driver.get(f\"https://solucoes.receita.fazenda.gov.br/Servicos/cnpjreva/Cnpjreva_Solicitacao.asp\")\n",
    "    driver.implicitly_wait(15)\n",
    "    driver.maximize_window()\n",
    "    actions = ActionChains(driver, duration=100)\n",
    "    \n",
    "    # Inputa o cnpj\n",
    "    driver.find_element(By.NAME,\"cnpj\").send_keys(cnpj)\n",
    "\n",
    "    # Tenta resolver o captcha\n",
    "    # Mudando para o iframe\n",
    "    iframe = driver.find_element(By.XPATH,'/html/body/div/div[1]/div[1]/div/div/form/div[1]/div[2]/div/iframe')\n",
    "    driver.switch_to.frame(iframe)\n",
    "\n",
    "    # Clicando no captcha\n",
    "    WebDriverWait(driver, 20).until(EC.element_to_be_clickable((By.ID, \"checkbox\"))).click()\n",
    "\n",
    "    # Pausando a execução do script até que o usuário pressione Enter\n",
    "    #input(\"Pressione `Enter` depois de resolver o captcha manualmente.\")\n",
    "    input_ok()\n",
    "\n",
    "    # Mudando de volta para a janela principal\n",
    "    driver.switch_to.default_content()\n",
    "\n",
    "    # Clicando no  botão consultar\n",
    "    WebDriverWait(driver, 20).until(EC.element_to_be_clickable((By.XPATH,'/html/body/div/div[1]/div[1]/div/div/form/div[3]/div/button[1]'))).click()\n",
    "    \n",
    "    break\n",
    "sleep(5)\n",
    "#driver.close()"
   ]
  },
  {
   "cell_type": "code",
   "execution_count": 2,
   "metadata": {},
   "outputs": [
    {
     "ename": "RuntimeError",
     "evalue": "This event loop is already running",
     "output_type": "error",
     "traceback": [
      "\u001b[1;31m---------------------------------------------------------------------------\u001b[0m",
      "\u001b[1;31mRuntimeError\u001b[0m                              Traceback (most recent call last)",
      "Cell \u001b[1;32mIn[2], line 34\u001b[0m\n\u001b[0;32m     31\u001b[0m         \u001b[39mawait\u001b[39;00m browser\u001b[39m.\u001b[39mclose()\n\u001b[0;32m     33\u001b[0m \u001b[39m# Executa o loop assíncrono\u001b[39;00m\n\u001b[1;32m---> 34\u001b[0m asyncio\u001b[39m.\u001b[39;49mget_event_loop()\u001b[39m.\u001b[39;49mrun_until_complete(main())\n",
      "File \u001b[1;32m~\\AppData\\Local\\Programs\\Python\\Python39\\lib\\asyncio\\base_events.py:618\u001b[0m, in \u001b[0;36mBaseEventLoop.run_until_complete\u001b[1;34m(self, future)\u001b[0m\n\u001b[0;32m    607\u001b[0m \u001b[39m\u001b[39m\u001b[39m\"\"\"Run until the Future is done.\u001b[39;00m\n\u001b[0;32m    608\u001b[0m \n\u001b[0;32m    609\u001b[0m \u001b[39mIf the argument is a coroutine, it is wrapped in a Task.\u001b[39;00m\n\u001b[1;32m   (...)\u001b[0m\n\u001b[0;32m    615\u001b[0m \u001b[39mReturn the Future's result, or raise its exception.\u001b[39;00m\n\u001b[0;32m    616\u001b[0m \u001b[39m\"\"\"\u001b[39;00m\n\u001b[0;32m    617\u001b[0m \u001b[39mself\u001b[39m\u001b[39m.\u001b[39m_check_closed()\n\u001b[1;32m--> 618\u001b[0m \u001b[39mself\u001b[39;49m\u001b[39m.\u001b[39;49m_check_running()\n\u001b[0;32m    620\u001b[0m new_task \u001b[39m=\u001b[39m \u001b[39mnot\u001b[39;00m futures\u001b[39m.\u001b[39misfuture(future)\n\u001b[0;32m    621\u001b[0m future \u001b[39m=\u001b[39m tasks\u001b[39m.\u001b[39mensure_future(future, loop\u001b[39m=\u001b[39m\u001b[39mself\u001b[39m)\n",
      "File \u001b[1;32m~\\AppData\\Local\\Programs\\Python\\Python39\\lib\\asyncio\\base_events.py:578\u001b[0m, in \u001b[0;36mBaseEventLoop._check_running\u001b[1;34m(self)\u001b[0m\n\u001b[0;32m    576\u001b[0m \u001b[39mdef\u001b[39;00m \u001b[39m_check_running\u001b[39m(\u001b[39mself\u001b[39m):\n\u001b[0;32m    577\u001b[0m     \u001b[39mif\u001b[39;00m \u001b[39mself\u001b[39m\u001b[39m.\u001b[39mis_running():\n\u001b[1;32m--> 578\u001b[0m         \u001b[39mraise\u001b[39;00m \u001b[39mRuntimeError\u001b[39;00m(\u001b[39m'\u001b[39m\u001b[39mThis event loop is already running\u001b[39m\u001b[39m'\u001b[39m)\n\u001b[0;32m    579\u001b[0m     \u001b[39mif\u001b[39;00m events\u001b[39m.\u001b[39m_get_running_loop() \u001b[39mis\u001b[39;00m \u001b[39mnot\u001b[39;00m \u001b[39mNone\u001b[39;00m:\n\u001b[0;32m    580\u001b[0m         \u001b[39mraise\u001b[39;00m \u001b[39mRuntimeError\u001b[39;00m(\n\u001b[0;32m    581\u001b[0m             \u001b[39m'\u001b[39m\u001b[39mCannot run the event loop while another loop is running\u001b[39m\u001b[39m'\u001b[39m)\n",
      "\u001b[1;31mRuntimeError\u001b[0m: This event loop is already running"
     ]
    }
   ],
   "source": [
    "import asyncio\n",
    "from playwright.async_api import async_playwright\n",
    "async def main():\n",
    "    async with async_playwright() as p:\n",
    "        browser = await p.chromium.launch()\n",
    "        context = await browser.new_context()\n",
    "        page = await context.new_page()\n",
    "\n",
    "        for cnpj in cnpjs:\n",
    "            await page.goto(\"https://solucoes.receita.fazenda.gov.br/Servicos/cnpjreva/Cnpjreva_Solicitacao.asp\")\n",
    "            await page.wait_for_selector('input[name=\"cnpj\"]')\n",
    "            await page.fill('input[name=\"cnpj\"]', cnpj)\n",
    "\n",
    "            # Tenta resolver o captcha\n",
    "            iframe = await page.wait_for_selector('iframe')\n",
    "            frame = await iframe.content_frame()\n",
    "            await frame.wait_for_selector('#checkbox')\n",
    "            await frame.click('#checkbox')\n",
    "\n",
    "            # Aguarde o usuário resolver o captcha manualmente (pressionar Enter)\n",
    "            await input(\"Pressione `Enter` depois de resolver o captcha manualmente.\")\n",
    "\n",
    "            # Clique no botão consultar\n",
    "            await page.click('button:has-text(\"Consultar\")')\n",
    "            \n",
    "            \n",
    "            sleep(5)\n",
    "            break\n",
    "\n",
    "        await context.close()\n",
    "        await browser.close()\n",
    "\n",
    "# Executa o loop assíncrono\n",
    "asyncio.get_event_loop().run_until_complete(main())"
   ]
  }
 ],
 "metadata": {
  "kernelspec": {
   "display_name": ".venv",
   "language": "python",
   "name": "python3"
  },
  "language_info": {
   "codemirror_mode": {
    "name": "ipython",
    "version": 3
   },
   "file_extension": ".py",
   "mimetype": "text/x-python",
   "name": "python",
   "nbconvert_exporter": "python",
   "pygments_lexer": "ipython3",
   "version": "3.9.10"
  },
  "orig_nbformat": 4
 },
 "nbformat": 4,
 "nbformat_minor": 2
}
